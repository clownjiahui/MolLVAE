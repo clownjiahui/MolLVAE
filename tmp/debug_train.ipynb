{
 "cells": [
  {
   "cell_type": "code",
   "execution_count": 1,
   "metadata": {},
   "outputs": [],
   "source": [
    "import sys\n",
    "sys.path.append(\"/work01/home/wxxie/project/drug-gen/mollvae/MolLVAE/code\")\n",
    "from dataset import DatasetSplit\n",
    "from opt import get_parser\n",
    "from model.model import LVAE\n",
    "\n",
    "\n",
    "\n",
    "\n",
    "\n",
    "from moses.utils import CircularBuffer, Logger\n",
    "\n",
    "import torch\n",
    "from torch.nn.utils import clip_grad_norm_\n",
    "from torch.optim.lr_scheduler import _LRScheduler\n",
    "\n",
    "from tqdm import tqdm\n",
    "import numpy as np\n",
    "import random\n",
    "import math\n",
    "\n",
    "############ utils func and class\n",
    "\n",
    "def get_trainable_params(model):\n",
    "    \n",
    "    return (p for p in model.parameters() if p.requires_grad)\n",
    "\n",
    "def get_lr_annealer(optimizer, config):\n",
    "    \n",
    "    if config.lr_anr_type == \"SGDR\":\n",
    "        return CosineAnnealingLRWithRestart(optimizer, config)\n",
    "    \n",
    "def get_kl_annealer(n_epoch, kl_anr_type):\n",
    "    \n",
    "    if kl_anr_type == \"const\":\n",
    "        return KLAnnealer(n_epoch, config.kl_e_start, config.kl_w_start, config.kl_w_start)\n",
    "    elif kl_anr_type == \"linear_inc\":\n",
    "        return KLAnnealer(n_epoch, config.kl_e_start, config.kl_w_start, config.kl_w_end)\n",
    "    \n",
    "def get_n_epoch(lr_annealer_type):\n",
    "    \n",
    "    if lr_annealer_type == \"SGDR\":\n",
    "        return sum(config.lr_period * (config.lr_mult_coeff ** i)\n",
    "            for i in range(config.lr_n_restarts))\n",
    "    elif lr_annealer_type == \"const\":\n",
    "        return config.n_epoch\n",
    "\n",
    "def set_seed(seed):\n",
    "    torch.manual_seed(seed)\n",
    "    torch.cuda.manual_seed_all(seed)\n",
    "    random.seed(seed)\n",
    "    np.random.seed(seed)\n",
    "    torch.backends.cudnn.deterministic = True\n",
    "    torch.backends.cudnn.benchmark = False\n",
    "    \n",
    "    \n",
    "    \n",
    "class CosineAnnealingLRWithRestart(_LRScheduler):\n",
    "    def __init__(self, optimizer, config):\n",
    "        self.n_period = config.lr_period\n",
    "        self.n_mult = config.lr_mult_coeff\n",
    "        self.lr_end = config.lr_end\n",
    "\n",
    "        self.current_epoch = 0\n",
    "        self.t_end = self.n_period\n",
    "\n",
    "        # Also calls first epoch\n",
    "        super().__init__(optimizer, -1)\n",
    "\n",
    "    def get_lr(self):\n",
    "        return [self.lr_end + (base_lr - self.lr_end) *\n",
    "                (1 + math.cos(math.pi * self.current_epoch / self.t_end)) / 2\n",
    "                for base_lr in self.base_lrs]\n",
    "\n",
    "    def step(self, epoch=None):\n",
    "        if epoch is None:\n",
    "            epoch = self.last_epoch + 1\n",
    "        self.last_epoch = epoch\n",
    "        self.current_epoch += 1\n",
    "\n",
    "        for param_group, lr in zip(self.optimizer.param_groups, self.get_lr()):\n",
    "            param_group['lr'] = lr\n",
    "\n",
    "        if self.current_epoch == self.t_end:\n",
    "            self.current_epoch = 0\n",
    "            self.t_end = self.n_mult * self.t_end\n",
    "    \n",
    "    \n",
    "class KLAnnealer:\n",
    "    \"\"\"\n",
    "    Control KL loss weight to increase linearly\n",
    "    Adapted from `moses`\n",
    "    \"\"\"\n",
    "    \n",
    "    def __init__(self, n_epoch, kl_e_start, kl_w_start, kl_w_end):\n",
    "        self.i_start = kl_e_start\n",
    "        self.w_start = kl_w_start\n",
    "        self.w_max = kl_w_end\n",
    "        self.n_epoch = n_epoch\n",
    "\n",
    "        self.inc = (self.w_max - self.w_start) / (self.n_epoch - self.i_start)\n",
    "\n",
    "    def __call__(self, i):\n",
    "        k = (i - self.i_start) if i >= self.i_start else 0\n",
    "        return self.w_start + k * self.inc\n",
    "    \n",
    "\n",
    "def train_epoch(model, epoch, data, kl_weight, optimizer=None):\n",
    "    \n",
    "    if optimizer is None:\n",
    "        model.eval()\n",
    "    else:\n",
    "        model.train()\n",
    "        \n",
    "    kl_loss_values = CircularBuffer(config.loss_buf_sz)\n",
    "    recon_loss_values = CircularBuffer(config.loss_buf_sz)\n",
    "    loss_values = CircularBuffer(config.loss_buf_sz)    \n",
    "    for input_batch in data:\n",
    "        \n",
    "        input_batch = (input_batch[0].to(model.device()), input_batch[1])\n",
    "        \n",
    "        ## forward\n",
    "        kl_loss, recon_loss = model(input_batch)\n",
    "        loss = kl_weight * kl_loss + recon_loss\n",
    "        \n",
    "        ## backward\n",
    "        if optimizer is not None:\n",
    "            optimizer.zero_grad()\n",
    "            loss.backward()\n",
    "            clip_grad_norm_(get_trainable_params(model), config.clip_grad)\n",
    "            optimizer.step()\n",
    "            \n",
    "        ## log with buffer: average losses of the last m batches\n",
    "        kl_loss_values.add(kl_loss.item())\n",
    "        recon_loss_values.add(recon_loss.item())\n",
    "        loss_values.add(loss.item())\n",
    "        lr = (optimizer.param_groups[0]['lr']\n",
    "                  if optimizer is not None\n",
    "                  else 0)\n",
    "        ## print out progress\n",
    "        kl_loss_value = kl_loss_values.mean()\n",
    "        recon_loss_value = recon_loss_values.mean()\n",
    "        loss_value = loss_values.mean()\n",
    "        postfix = [f'loss={loss_value:.5f}',\n",
    "                   f'(kl={kl_loss_value:.5f}',\n",
    "                   f'recon={recon_loss_value:.5f})',\n",
    "                   f'klw={kl_weight:.5f} lr={lr:.5f}']\n",
    "        \n",
    "\n",
    "        data.set_postfix_str(' '.join(postfix))\n",
    "        \n",
    "        if str(loss_value) == \"nan\":\n",
    "            print(input_batch)\n",
    "            input_batch = (input_batch[0].cpu(), input_batch[1])\n",
    "            import pickle\n",
    "            with open(\"../tmp/test_batch.bsz-512.pkl\",\"wb\") as fo:\n",
    "                pickle.dump(input_batch, fo)\n",
    "            break\n",
    "                \n",
    "            \n",
    "    ## return results for this epoch (for tensorboard)\n",
    "    postfix = {\n",
    "        'epoch': epoch,\n",
    "        'kl_weight': kl_weight,\n",
    "        'lr': lr,\n",
    "        'kl_loss': kl_loss_value,\n",
    "        'recon_loss': recon_loss_value,\n",
    "        'loss': loss_value,\n",
    "        'mode': 'Eval' if optimizer is None else 'Train'}\n",
    "\n",
    "    return postfix\n",
    "            \n",
    "    \n",
    "    \n",
    "\n",
    "def train(model, config, train_dataloader, valid_dataloader=None, logger=None):\n",
    "    \n",
    "    device = model.device\n",
    "    \n",
    "    ## get optimizer and annealer\n",
    "    n_epoch = get_n_epoch(config.lr_anr_type)\n",
    "    optimizer = torch.optim.Adam(get_trainable_params(model),\n",
    "                                 lr=config.lr_start)\n",
    "    lr_annealer = get_lr_annealer(optimizer, config) #! [to be done] mechanism\n",
    "    kl_annealer = get_kl_annealer(n_epoch, config.kl_anr_type)\n",
    "    \n",
    "    ## iterative training\n",
    "    model.zero_grad()\n",
    "    for epoch in range(n_epoch):\n",
    "        \n",
    "        \n",
    "        #tqdm_data = train_dataloader\n",
    "        tqdm_data = tqdm(train_dataloader,\n",
    "                         desc='Training (epoch #{})'.format(epoch))\n",
    "        \n",
    "        ## training\n",
    "        kl_weight = kl_annealer(epoch)\n",
    "        postfix = train_epoch(model, epoch, tqdm_data, kl_weight, optimizer)\n",
    "        \n",
    "        if logger is not None:\n",
    "            logger.append(postfix)\n",
    "            logger.save(config.log_path)\n",
    "            \n",
    "        #? debug\n",
    "        break\n",
    "        \n",
    "        ## validation\n",
    "        if valid_dataloader is not None:\n",
    "            \n",
    "            #? debug\n",
    "            #tqdm_data = tqdm(valid_dataloader,\n",
    "            #             desc='Validation (epoch #{})'.format(epoch))\n",
    "            tqdm_data = valid_dataloader\n",
    "            train_epoch(model, epoch, tqdm_data, kl_weight)\n",
    "        \n",
    "        ## save model\n",
    "        if (config.model_save is not None) and \\\n",
    "            (epoch % config.save_frequency == 0):\n",
    "            model = model.to(\"cpu\")\n",
    "            torch.save(model.state_dict(),\n",
    "                       config.model_save[:-3] + \"_{:03d}.pt\".format(epoch))\n",
    "            model = model.to(device)\n",
    "        \n",
    "        lr_annealer.step()\n",
    "\n",
    "        \n",
    "        \n",
    "\n",
    "\n",
    "\n",
    "\n",
    "\n",
    "\n",
    "\n"
   ]
  },
  {
   "cell_type": "code",
   "execution_count": 2,
   "metadata": {},
   "outputs": [
    {
     "data": {
      "text/plain": [
       "Namespace(clip_grad=50, dec_hid_sz=256, dec_n_layer=1, dec_type='lstm', device='cuda:0', dropout=0.1, emb_sz=128, enc_bidirectional=True, enc_hidden_size=256, enc_num_layers=1, enc_sorted_seq=True, enc_type='lstm', kl_anr_type='const', kl_e_start=1, kl_w_end=1.0, kl_w_start=1.0, ladder_d_size=[512, 256, 128, 64, 32], ladder_z2z_layer_size=[8, 16, 32, 64], ladder_z_size=[64, 32, 16, 8, 4], log_path=None, loss_buf_sz=1000, lr_anr_type='const', lr_end=0.00030000000000000003, lr_mult_coeff=1, lr_n_restarts=10, lr_period=10, lr_start=0.00030000000000000003, model_save=None, n_epoch=2, save_frequency=10, seed=56, test_load='../data/valid.csv', train_bsz=512, train_load='../data/train.csv', valid_load='../data/valid.csv')"
      ]
     },
     "execution_count": 2,
     "metadata": {},
     "output_type": "execute_result"
    }
   ],
   "source": [
    "############ config\n",
    "\n",
    "parser = get_parser()\n",
    "config = parser.parse_args(\"--device cuda:0 --enc_bidirectional True --n_epoch 2 --train_bsz 512 --kl_e_start=1\".split())\n",
    "\n",
    "device = torch.device(config.device)\n",
    "\n",
    "set_seed(config.seed)\n",
    "\n",
    "config"
   ]
  },
  {
   "cell_type": "code",
   "execution_count": 3,
   "metadata": {},
   "outputs": [
    {
     "name": "stdout",
     "output_type": "stream",
     "text": [
      "Loading training set...\n",
      "Loading vocab...\n",
      "Loading validation set...\n",
      "Loading vocab...\n"
     ]
    }
   ],
   "source": [
    "############ load training data\n",
    "\n",
    "print(\"Loading training set...\")\n",
    "train_split = DatasetSplit(\"train\", config.train_load)\n",
    "train_dataloader = train_split.get_dataloader(batch_size=config.train_bsz)\n",
    "\n",
    "if config.valid_load is not None:\n",
    "    print(\"Loading validation set...\")\n",
    "    valid_split = DatasetSplit(\"valid\", config.valid_load)\n",
    "    valid_dataloader = valid_split.get_dataloader(batch_size=config.train_bsz, shuffle=False)\n",
    "    \n",
    "vocab = train_split._vocab\n",
    "\n",
    "\n"
   ]
  },
  {
   "cell_type": "code",
   "execution_count": 4,
   "metadata": {},
   "outputs": [
    {
     "name": "stdout",
     "output_type": "stream",
     "text": [
      "Initializing model...\n"
     ]
    },
    {
     "name": "stderr",
     "output_type": "stream",
     "text": [
      "\r",
      "Training (epoch #0):   0%|          | 0/1741 [00:00<?, ?it/s]"
     ]
    },
    {
     "name": "stdout",
     "output_type": "stream",
     "text": [
      "Start training...\n"
     ]
    },
    {
     "name": "stderr",
     "output_type": "stream",
     "text": [
      "Training (epoch #0):  19%|█▉        | 329/1741 [00:32<02:16, 10.32it/s, loss=nan (kl=nan recon=nan) klw=1.00000 lr=0.00030]             "
     ]
    },
    {
     "name": "stdout",
     "output_type": "stream",
     "text": [
      "(tensor([[33, 16, 26,  ..., 26,  5, 34],\n",
      "        [33, 16, 16,  ...,  5, 34, 35],\n",
      "        [33, 16, 26,  ..., 34, 35, 35],\n",
      "        ...,\n",
      "        [33, 16, 16,  ..., 35, 35, 35],\n",
      "        [33, 20, 16,  ..., 35, 35, 35],\n",
      "        [33, 16, 16,  ..., 35, 35, 35]], device='cuda:0'), [69, 68, 67, 67, 67, 65, 65, 65, 64, 64, 64, 64, 64, 63, 62, 62, 62, 62, 61, 61, 61, 61, 61, 60, 60, 60, 60, 59, 59, 59, 59, 59, 58, 58, 58, 57, 57, 57, 57, 57, 57, 57, 57, 56, 56, 56, 55, 55, 55, 55, 55, 55, 55, 55, 55, 55, 55, 55, 55, 54, 54, 54, 54, 54, 54, 54, 54, 54, 54, 54, 54, 54, 54, 54, 54, 54, 54, 54, 53, 53, 53, 53, 53, 53, 53, 53, 53, 53, 53, 53, 53, 53, 53, 52, 52, 52, 52, 52, 52, 52, 52, 52, 52, 52, 52, 52, 52, 52, 52, 52, 51, 51, 51, 51, 51, 51, 51, 51, 51, 51, 51, 51, 51, 51, 50, 50, 50, 50, 50, 50, 50, 50, 50, 50, 50, 50, 50, 49, 49, 49, 49, 49, 49, 49, 49, 49, 49, 48, 48, 48, 48, 48, 48, 48, 48, 48, 48, 48, 48, 48, 48, 48, 48, 48, 48, 47, 47, 47, 47, 47, 47, 47, 47, 47, 47, 47, 47, 47, 47, 47, 47, 47, 47, 46, 46, 46, 46, 46, 46, 46, 46, 46, 46, 46, 46, 46, 46, 46, 46, 46, 46, 46, 46, 46, 46, 46, 46, 46, 46, 46, 45, 45, 45, 45, 45, 45, 45, 45, 45, 45, 45, 45, 45, 45, 45, 45, 44, 44, 44, 44, 44, 44, 44, 44, 44, 44, 43, 43, 43, 43, 43, 43, 43, 43, 43, 43, 43, 43, 43, 43, 42, 42, 42, 42, 42, 42, 42, 42, 42, 42, 42, 42, 42, 42, 42, 42, 42, 42, 42, 42, 42, 42, 41, 41, 41, 41, 41, 41, 41, 41, 41, 41, 41, 41, 41, 41, 41, 41, 40, 40, 40, 40, 40, 40, 40, 40, 40, 40, 40, 40, 40, 40, 40, 40, 40, 39, 39, 39, 39, 39, 39, 39, 39, 39, 39, 39, 39, 39, 39, 39, 39, 39, 39, 39, 39, 38, 38, 38, 38, 38, 38, 38, 38, 38, 38, 38, 38, 38, 38, 38, 38, 38, 38, 38, 37, 37, 37, 37, 37, 37, 37, 37, 37, 37, 37, 37, 37, 37, 37, 37, 37, 37, 37, 37, 36, 36, 36, 36, 36, 36, 36, 36, 36, 36, 36, 36, 36, 36, 36, 36, 36, 36, 35, 35, 35, 35, 35, 35, 35, 35, 35, 35, 35, 35, 35, 35, 35, 35, 35, 34, 34, 34, 34, 34, 34, 34, 34, 34, 34, 34, 34, 34, 34, 34, 34, 33, 33, 33, 33, 33, 33, 33, 33, 33, 33, 33, 32, 32, 32, 32, 32, 32, 32, 32, 32, 32, 32, 32, 32, 32, 32, 32, 32, 31, 31, 31, 31, 31, 31, 31, 31, 31, 31, 31, 31, 31, 30, 30, 30, 30, 30, 30, 29, 29, 29, 29, 29, 28, 28, 28, 28, 28, 28, 27, 27, 27, 27, 26, 26, 26, 26, 26, 25, 25, 25, 25, 25, 25, 25, 25, 24, 24, 24, 24, 24, 24, 24, 23, 23, 23, 23, 23, 23, 23, 22, 21, 20, 20, 19, 18, 18, 16])\n"
     ]
    }
   ],
   "source": [
    "############ get model and train\n",
    "\n",
    "print(\"Initializing model...\")\n",
    "model = LVAE(vocab, config).to(device)\n",
    "\n",
    "\n",
    "## log training process to csv file\n",
    "logger = Logger() if config.log_path is not None else None\n",
    "\n",
    "print(\"Start training...\")\n",
    "train(model, config, train_dataloader, valid_dataloader, logger)"
   ]
  },
  {
   "cell_type": "code",
   "execution_count": 5,
   "metadata": {},
   "outputs": [],
   "source": [
    "## test nan batch\n",
    "import pickle\n",
    "with open(\"test_batch.bsz-512.pkl\",\"rb\") as fi:\n",
    "    test_batch=pickle.load(fi)"
   ]
  },
  {
   "cell_type": "code",
   "execution_count": 7,
   "metadata": {},
   "outputs": [
    {
     "data": {
      "text/plain": [
       "(tensor(nan, device='cuda:0', grad_fn=<AddBackward0>),\n",
       " tensor(nan, device='cuda:0', grad_fn=<NllLossBackward>))"
      ]
     },
     "execution_count": 7,
     "metadata": {},
     "output_type": "execute_result"
    }
   ],
   "source": [
    "## trained model\n",
    "model((test_batch[0].to(device), test_batch[1]))"
   ]
  },
  {
   "cell_type": "code",
   "execution_count": 8,
   "metadata": {},
   "outputs": [
    {
     "data": {
      "text/plain": [
       "(tensor(12.5467, grad_fn=<AddBackward0>),\n",
       " tensor(3.6465, grad_fn=<NllLossBackward>))"
      ]
     },
     "execution_count": 8,
     "metadata": {},
     "output_type": "execute_result"
    }
   ],
   "source": [
    "## new model on cpu\n",
    "device2 = torch.device(\"cpu\")\n",
    "model2 = LVAE(vocab, config).to(device2)\n",
    "model2((test_batch[0].to(device2), test_batch[1]))"
   ]
  },
  {
   "cell_type": "code",
   "execution_count": 9,
   "metadata": {},
   "outputs": [
    {
     "data": {
      "text/plain": [
       "(tensor(12.6349, device='cuda:0', grad_fn=<AddBackward0>),\n",
       " tensor(3.5910, device='cuda:0', grad_fn=<NllLossBackward>))"
      ]
     },
     "execution_count": 9,
     "metadata": {},
     "output_type": "execute_result"
    }
   ],
   "source": [
    "## new model on gpu\n",
    "model3 = LVAE(vocab, config).to(device)\n",
    "model3((test_batch[0].to(device), test_batch[1]))"
   ]
  },
  {
   "cell_type": "code",
   "execution_count": null,
   "metadata": {},
   "outputs": [],
   "source": []
  }
 ],
 "metadata": {
  "kernelspec": {
   "display_name": "Python(hiensg)",
   "language": "python",
   "name": "hiensg"
  },
  "language_info": {
   "codemirror_mode": {
    "name": "ipython",
    "version": 3
   },
   "file_extension": ".py",
   "mimetype": "text/x-python",
   "name": "python",
   "nbconvert_exporter": "python",
   "pygments_lexer": "ipython3",
   "version": "3.6.9"
  }
 },
 "nbformat": 4,
 "nbformat_minor": 2
}
